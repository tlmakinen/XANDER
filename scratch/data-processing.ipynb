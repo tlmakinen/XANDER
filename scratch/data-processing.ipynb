{
 "cells": [
  {
   "cell_type": "code",
   "execution_count": 3,
   "metadata": {},
   "outputs": [],
   "source": [
    "import numpy as np\n",
    "import pandas as pd\n",
    "import matplotlib.pyplot as plt\n",
    "import seaborn as sns\n",
    "sns.set()\n",
    "\n",
    "from tqdm import tqdm\n",
    "\n",
    "%matplotlib inline"
   ]
  },
  {
   "cell_type": "code",
   "execution_count": 5,
   "metadata": {},
   "outputs": [],
   "source": [
    "data = np.load('./training_data_rnn.npy.npz', allow_pickle=True)\n",
    "Y = data['arr_1']\n",
    "X = data['arr_0']\n",
    "\n",
    "x = np.asarray(X)"
   ]
  },
  {
   "cell_type": "code",
   "execution_count": null,
   "metadata": {},
   "outputs": [
    {
     "name": "stderr",
     "output_type": "stream",
     "text": [
      "100%|██████████| 32/32 [00:00<00:00, 21247.07it/s]\n",
      "100%|██████████| 82/82 [00:00<00:00, 17748.63it/s]\n",
      "100%|██████████| 197/197 [00:00<00:00, 16701.93it/s]\n",
      "100%|██████████| 191/191 [00:00<00:00, 17717.45it/s]\n",
      "100%|██████████| 349/349 [00:00<00:00, 9256.78it/s]\n",
      "100%|██████████| 39/39 [00:00<00:00, 18122.96it/s]\n",
      "100%|██████████| 101/101 [00:00<00:00, 17927.41it/s]\n",
      "  0%|          | 0/2196 [00:00<?, ?it/s]"
     ]
    },
    {
     "name": "stdout",
     "output_type": "stream",
     "text": [
      "now i'm doing data number 1\n",
      "now i'm doing data number 2\n",
      "now i'm doing data number 3\n",
      "now i'm doing data number 4\n",
      "now i'm doing data number 5\n",
      "now i'm doing data number 6\n",
      "now i'm doing data number 7\n",
      "now i'm doing data number 8\n"
     ]
    },
    {
     "name": "stderr",
     "output_type": "stream",
     "text": [
      "100%|██████████| 2196/2196 [00:14<00:00, 147.27it/s]\n",
      "100%|██████████| 127/127 [00:00<00:00, 5015.41it/s]\n",
      " 16%|█▌        | 197/1266 [00:00<00:00, 1953.98it/s]"
     ]
    },
    {
     "name": "stdout",
     "output_type": "stream",
     "text": [
      "now i'm doing data number 9\n",
      "now i'm doing data number 10\n"
     ]
    },
    {
     "name": "stderr",
     "output_type": "stream",
     "text": [
      "100%|██████████| 1266/1266 [00:01<00:00, 703.52it/s]\n",
      " 62%|██████▏   | 442/715 [00:00<00:00, 4407.83it/s]"
     ]
    },
    {
     "name": "stdout",
     "output_type": "stream",
     "text": [
      "now i'm doing data number 11\n"
     ]
    },
    {
     "name": "stderr",
     "output_type": "stream",
     "text": [
      "100%|██████████| 715/715 [00:00<00:00, 3374.70it/s]\n",
      "100%|██████████| 101/101 [00:00<00:00, 22830.76it/s]\n",
      "100%|██████████| 32/32 [00:00<00:00, 33296.39it/s]\n",
      " 16%|█▌        | 242/1532 [00:00<00:00, 2416.69it/s]"
     ]
    },
    {
     "name": "stdout",
     "output_type": "stream",
     "text": [
      "now i'm doing data number 12\n",
      "now i'm doing data number 13\n",
      "now i'm doing data number 14\n"
     ]
    },
    {
     "name": "stderr",
     "output_type": "stream",
     "text": [
      "100%|██████████| 1532/1532 [00:04<00:00, 354.03it/s]\n",
      "100%|██████████| 144/144 [00:00<00:00, 15515.30it/s]\n",
      "100%|██████████| 101/101 [00:00<00:00, 21719.89it/s]\n",
      "100%|██████████| 64/64 [00:00<00:00, 21739.18it/s]\n",
      "100%|██████████| 171/171 [00:00<00:00, 18347.60it/s]\n",
      "100%|██████████| 131/131 [00:00<00:00, 19259.48it/s]\n",
      "100%|██████████| 74/74 [00:00<00:00, 21799.30it/s]\n",
      "100%|██████████| 49/49 [00:00<00:00, 16425.90it/s]\n",
      "  8%|▊         | 202/2687 [00:00<00:01, 2008.77it/s]"
     ]
    },
    {
     "name": "stdout",
     "output_type": "stream",
     "text": [
      "now i'm doing data number 15\n",
      "now i'm doing data number 16\n",
      "now i'm doing data number 17\n",
      "now i'm doing data number 18\n",
      "now i'm doing data number 19\n",
      "now i'm doing data number 20\n",
      "now i'm doing data number 21\n",
      "now i'm doing data number 22\n"
     ]
    },
    {
     "name": "stderr",
     "output_type": "stream",
     "text": [
      "100%|██████████| 2687/2687 [00:58<00:00, 46.30it/s] \n",
      " 59%|█████▉    | 445/752 [00:00<00:00, 4448.43it/s]"
     ]
    },
    {
     "name": "stdout",
     "output_type": "stream",
     "text": [
      "now i'm doing data number 23\n"
     ]
    },
    {
     "name": "stderr",
     "output_type": "stream",
     "text": [
      "100%|██████████| 752/752 [00:00<00:00, 3138.80it/s]\n",
      "100%|██████████| 566/566 [00:00<00:00, 5968.20it/s]\n",
      "  0%|          | 0/1847 [00:00<?, ?it/s]"
     ]
    },
    {
     "name": "stdout",
     "output_type": "stream",
     "text": [
      "now i'm doing data number 24\n",
      "now i'm doing data number 25\n"
     ]
    },
    {
     "name": "stderr",
     "output_type": "stream",
     "text": [
      "100%|██████████| 1847/1847 [00:09<00:00, 186.03it/s]\n",
      " 51%|█████▏    | 414/807 [00:00<00:00, 4132.77it/s]"
     ]
    },
    {
     "name": "stdout",
     "output_type": "stream",
     "text": [
      "now i'm doing data number 26\n"
     ]
    },
    {
     "name": "stderr",
     "output_type": "stream",
     "text": [
      "100%|██████████| 807/807 [00:00<00:00, 2585.47it/s]\n",
      "100%|██████████| 81/81 [00:00<00:00, 23089.48it/s]\n",
      "100%|██████████| 92/92 [00:00<00:00, 21464.98it/s]\n",
      "  4%|▍         | 145/3428 [00:00<00:02, 1444.28it/s]"
     ]
    },
    {
     "name": "stdout",
     "output_type": "stream",
     "text": [
      "now i'm doing data number 27\n",
      "now i'm doing data number 28\n",
      "now i'm doing data number 29\n"
     ]
    },
    {
     "name": "stderr",
     "output_type": "stream",
     "text": [
      "100%|██████████| 3428/3428 [02:00<00:00, 28.36it/s] \n",
      "100%|██████████| 99/99 [00:00<00:00, 11353.00it/s]\n",
      "100%|██████████| 69/69 [00:00<00:00, 21191.11it/s]\n",
      " 57%|█████▋    | 453/790 [00:00<00:00, 4513.08it/s]"
     ]
    },
    {
     "name": "stdout",
     "output_type": "stream",
     "text": [
      "now i'm doing data number 30\n",
      "now i'm doing data number 31\n",
      "now i'm doing data number 32\n"
     ]
    },
    {
     "name": "stderr",
     "output_type": "stream",
     "text": [
      "100%|██████████| 790/790 [00:00<00:00, 2613.70it/s]\n",
      "100%|██████████| 129/129 [00:00<00:00, 22290.83it/s]\n",
      "100%|██████████| 116/116 [00:00<00:00, 19858.75it/s]\n",
      " 57%|█████▋    | 449/787 [00:00<00:00, 4489.15it/s]"
     ]
    },
    {
     "name": "stdout",
     "output_type": "stream",
     "text": [
      "now i'm doing data number 33\n",
      "now i'm doing data number 34\n",
      "now i'm doing data number 35\n"
     ]
    },
    {
     "name": "stderr",
     "output_type": "stream",
     "text": [
      "100%|██████████| 787/787 [00:00<00:00, 2731.30it/s]\n",
      "100%|██████████| 91/91 [00:00<00:00, 22044.68it/s]\n",
      "100%|██████████| 171/171 [00:00<00:00, 19336.93it/s]\n",
      "100%|██████████| 277/277 [00:00<00:00, 11642.09it/s]\n",
      "100%|██████████| 110/110 [00:00<00:00, 20940.11it/s]\n",
      "100%|██████████| 109/109 [00:00<00:00, 22770.15it/s]\n",
      "100%|██████████| 158/158 [00:00<00:00, 17849.06it/s]\n",
      "100%|██████████| 21/21 [00:00<00:00, 41923.08it/s]\n",
      "100%|██████████| 363/363 [00:00<00:00, 8517.14it/s]\n",
      "  0%|          | 0/988 [00:00<?, ?it/s]"
     ]
    },
    {
     "name": "stdout",
     "output_type": "stream",
     "text": [
      "now i'm doing data number 36\n",
      "now i'm doing data number 37\n",
      "now i'm doing data number 38\n",
      "now i'm doing data number 39\n",
      "now i'm doing data number 40\n",
      "now i'm doing data number 41\n",
      "now i'm doing data number 42\n",
      "now i'm doing data number 43\n",
      "now i'm doing data number 44\n"
     ]
    },
    {
     "name": "stderr",
     "output_type": "stream",
     "text": [
      "100%|██████████| 988/988 [00:00<00:00, 1014.83it/s]\n",
      " 31%|███       | 352/1128 [00:00<00:00, 3513.75it/s]"
     ]
    },
    {
     "name": "stdout",
     "output_type": "stream",
     "text": [
      "now i'm doing data number 45\n"
     ]
    },
    {
     "name": "stderr",
     "output_type": "stream",
     "text": [
      "100%|██████████| 1128/1128 [00:00<00:00, 1236.26it/s]\n",
      "100%|██████████| 128/128 [00:00<00:00, 23421.64it/s]\n",
      "100%|██████████| 66/66 [00:00<00:00, 17780.47it/s]\n",
      "100%|██████████| 414/414 [00:00<00:00, 9229.37it/s]\n",
      "100%|██████████| 115/115 [00:00<00:00, 23484.34it/s]\n",
      "100%|██████████| 136/136 [00:00<00:00, 23223.90it/s]\n",
      " 80%|███████▉  | 542/680 [00:00<00:00, 5411.77it/s]"
     ]
    },
    {
     "name": "stdout",
     "output_type": "stream",
     "text": [
      "now i'm doing data number 46\n",
      "now i'm doing data number 47\n",
      "now i'm doing data number 48\n",
      "now i'm doing data number 49\n",
      "now i'm doing data number 50\n",
      "now i'm doing data number 51\n"
     ]
    },
    {
     "name": "stderr",
     "output_type": "stream",
     "text": [
      "100%|██████████| 680/680 [00:00<00:00, 4204.07it/s]\n",
      "100%|██████████| 135/135 [00:00<00:00, 22458.79it/s]\n",
      "100%|██████████| 190/190 [00:00<00:00, 19511.26it/s]\n",
      "100%|██████████| 488/488 [00:00<00:00, 7374.87it/s]\n",
      "100%|██████████| 222/222 [00:00<00:00, 17030.99it/s]\n",
      "100%|██████████| 117/117 [00:00<00:00, 20099.68it/s]\n",
      "100%|██████████| 415/415 [00:00<00:00, 10206.62it/s]\n",
      "100%|██████████| 144/144 [00:00<00:00, 20215.54it/s]\n",
      "  0%|          | 0/838 [00:00<?, ?it/s]"
     ]
    },
    {
     "name": "stdout",
     "output_type": "stream",
     "text": [
      "now i'm doing data number 52\n",
      "now i'm doing data number 53\n",
      "now i'm doing data number 54\n",
      "now i'm doing data number 55\n",
      "now i'm doing data number 56\n",
      "now i'm doing data number 57\n",
      "now i'm doing data number 58\n",
      "now i'm doing data number 59\n"
     ]
    },
    {
     "name": "stderr",
     "output_type": "stream",
     "text": [
      "100%|██████████| 838/838 [00:00<00:00, 2511.07it/s]\n",
      "100%|██████████| 118/118 [00:00<00:00, 24365.08it/s]\n",
      "100%|██████████| 287/287 [00:00<00:00, 14071.39it/s]\n",
      " 46%|████▋     | 449/966 [00:00<00:00, 4485.25it/s]"
     ]
    },
    {
     "name": "stdout",
     "output_type": "stream",
     "text": [
      "now i'm doing data number 60\n",
      "now i'm doing data number 61\n",
      "now i'm doing data number 62\n"
     ]
    },
    {
     "name": "stderr",
     "output_type": "stream",
     "text": [
      "100%|██████████| 966/966 [00:00<00:00, 1892.80it/s]\n",
      "100%|██████████| 72/72 [00:00<00:00, 21529.19it/s]\n",
      "100%|██████████| 74/74 [00:00<00:00, 21537.61it/s]\n",
      "100%|██████████| 146/146 [00:00<00:00, 20774.45it/s]\n",
      " 10%|█         | 246/2449 [00:00<00:00, 2438.18it/s]"
     ]
    },
    {
     "name": "stdout",
     "output_type": "stream",
     "text": [
      "now i'm doing data number 63\n",
      "now i'm doing data number 64\n",
      "now i'm doing data number 65\n",
      "now i'm doing data number 66\n"
     ]
    },
    {
     "name": "stderr",
     "output_type": "stream",
     "text": [
      "100%|██████████| 2449/2449 [00:38<00:00, 64.00it/s] \n",
      "100%|██████████| 37/37 [00:00<00:00, 6614.49it/s]\n",
      "  3%|▎         | 126/3903 [00:00<00:03, 1245.38it/s]"
     ]
    },
    {
     "name": "stdout",
     "output_type": "stream",
     "text": [
      "now i'm doing data number 67\n",
      "now i'm doing data number 68\n"
     ]
    },
    {
     "name": "stderr",
     "output_type": "stream",
     "text": [
      "100%|██████████| 3903/3903 [03:20<00:00, 19.50it/s] \n",
      "100%|██████████| 15/15 [00:00<00:00, 856.07it/s]\n",
      "100%|██████████| 199/199 [00:00<00:00, 10817.63it/s]\n",
      "  0%|          | 41/13084 [00:00<00:33, 384.76it/s]"
     ]
    },
    {
     "name": "stdout",
     "output_type": "stream",
     "text": [
      "now i'm doing data number 69\n",
      "now i'm doing data number 70\n",
      "now i'm doing data number 71\n"
     ]
    },
    {
     "name": "stderr",
     "output_type": "stream",
     "text": [
      " 56%|█████▌    | 7283/13084 [49:52<58:31,  1.65it/s]  "
     ]
    }
   ],
   "source": [
    "## naiive loop\n",
    "gridded_data = []\n",
    "\n",
    "for id,dat in enumerate(x[:100]):\n",
    "    print(\"now i'm doing data number %d\"%(id + 1))\n",
    "\n",
    "    n = len(dat)\n",
    "    ts = np.cumsum(dat.T[0])\n",
    "    eps = dat.T[1]\n",
    "\n",
    "    de_grid = np.zeros((int(n*(n-1) / 2),))\n",
    "    dt_grid = np.zeros((int(n*(n-1) / 2),))\n",
    "\n",
    "    dt_grid = []\n",
    "    de_grid = []\n",
    "\n",
    "    # loop over all pairs\n",
    "    for i in tqdm(range(n)):\n",
    "        dt_grid.append((ts - ts[i])[i+1:]) # compute difference for each t value\n",
    "\n",
    "        de_grid.append((eps[i] - eps)[i+1:]) # compute difference for each eps value\n",
    "\n",
    "        dts = np.concatenate(dt_grid)\n",
    "        des = np.concatenate(de_grid)\n",
    "\n",
    "    gridded_data.append(np.stack((dts,des)))"
   ]
  },
  {
   "cell_type": "code",
   "execution_count": 8,
   "metadata": {},
   "outputs": [
    {
     "data": {
      "text/plain": [
       "2346"
      ]
     },
     "execution_count": 8,
     "metadata": {},
     "output_type": "execute_result"
    }
   ],
   "source": [
    "len(gridded_data)"
   ]
  },
  {
   "cell_type": "code",
   "execution_count": null,
   "metadata": {},
   "outputs": [],
   "source": []
  }
 ],
 "metadata": {
  "kernelspec": {
   "display_name": "Python 3",
   "language": "python",
   "name": "python3"
  },
  "language_info": {
   "codemirror_mode": {
    "name": "ipython",
    "version": 3
   },
   "file_extension": ".py",
   "mimetype": "text/x-python",
   "name": "python",
   "nbconvert_exporter": "python",
   "pygments_lexer": "ipython3",
   "version": "3.7.6"
  }
 },
 "nbformat": 4,
 "nbformat_minor": 4
}
